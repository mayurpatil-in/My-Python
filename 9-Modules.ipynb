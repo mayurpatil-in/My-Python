{
 "cells": [
  {
   "cell_type": "markdown",
   "metadata": {},
   "source": [
    "## 1. Builtins Module / Package\n",
    "## 2. External Module / Package"
   ]
  },
  {
   "cell_type": "code",
   "execution_count": 4,
   "metadata": {},
   "outputs": [
    {
     "data": {
      "text/plain": [
       "2.0"
      ]
     },
     "execution_count": 4,
     "metadata": {},
     "output_type": "execute_result"
    }
   ],
   "source": [
    "# 1. Builtin -> math\n",
    "import math\n",
    "\n",
    "math.sqrt(4)"
   ]
  },
  {
   "cell_type": "code",
   "execution_count": 5,
   "metadata": {},
   "outputs": [
    {
     "data": {
      "text/plain": [
       "24"
      ]
     },
     "execution_count": 5,
     "metadata": {},
     "output_type": "execute_result"
    }
   ],
   "source": [
    "math.factorial(4)"
   ]
  },
  {
   "cell_type": "code",
   "execution_count": 6,
   "metadata": {},
   "outputs": [
    {
     "name": "stdout",
     "output_type": "stream",
     "text": [
      "['False', 'None', 'True', 'and', 'as', 'assert', 'async', 'await', 'break', 'class', 'continue', 'def', 'del', 'elif', 'else', 'except', 'finally', 'for', 'from', 'global', 'if', 'import', 'in', 'is', 'lambda', 'nonlocal', 'not', 'or', 'pass', 'raise', 'return', 'try', 'while', 'with', 'yield']\n"
     ]
    }
   ],
   "source": [
    "import keyword\n",
    "print(keyword.kwlist)"
   ]
  },
  {
   "cell_type": "code",
   "execution_count": 9,
   "metadata": {},
   "outputs": [
    {
     "name": "stdout",
     "output_type": "stream",
     "text": [
      "62\n"
     ]
    }
   ],
   "source": [
    "import random\n",
    "print(random.randint(1,100))"
   ]
  },
  {
   "cell_type": "code",
   "execution_count": 11,
   "metadata": {},
   "outputs": [
    {
     "name": "stdout",
     "output_type": "stream",
     "text": [
      "2024-12-17 09:35:55.770814\n"
     ]
    }
   ],
   "source": [
    "import datetime\n",
    "print(datetime.datetime.now())"
   ]
  },
  {
   "cell_type": "code",
   "execution_count": 12,
   "metadata": {},
   "outputs": [
    {
     "name": "stdout",
     "output_type": "stream",
     "text": [
      "\n",
      "Please wait a moment while I gather a list of all available modules...\n",
      "\n",
      "IPython             asyncio             mimetypes           tempfile\n",
      "__future__          atexit              mmap                test\n",
      "__hello__           audioop             mmapfile            textwrap\n",
      "__phello__          autocommand         mmsystem            this\n",
      "_abc                backports           modulefinder        threading\n",
      "_aix_support        base64              more_itertools      time\n",
      "_ast                bdb                 msilib              timeit\n",
      "_asyncio            binascii            msvcrt              timer\n",
      "_bisect             bisect              multiprocessing     tkinter\n",
      "_blake2             builtins            nest_asyncio        token\n",
      "_bz2                bz2                 netbios             tokenize\n",
      "_codecs             cProfile            netrc               tomli\n",
      "_codecs_cn          calendar            nntplib             tomllib\n",
      "_codecs_hk          cgi                 nt                  tornado\n",
      "_codecs_iso2022     cgitb               ntpath              trace\n",
      "_codecs_jp          chunk               ntsecuritycon       traceback\n",
      "_codecs_kr          cmath               nturl2path          tracemalloc\n",
      "_codecs_tw          cmd                 numbers             traitlets\n",
      "_collections        code                odbc                tty\n",
      "_collections_abc    codecs              opcode              turtle\n",
      "_compat_pickle      codeop              operator            turtledemo\n",
      "_compression        collections         optparse            typeguard\n",
      "_contextvars        colorama            os                  types\n",
      "_csv                colorsys            packaging           typing\n",
      "_ctypes             comm                parso               typing_extensions\n",
      "_ctypes_test        commctrl            pathlib             unicodedata\n",
      "_datetime           compileall          pdb                 unittest\n",
      "_decimal            concurrent          perfmon             urllib\n",
      "_distutils_hack     configparser        pickle              uu\n",
      "_elementtree        contextlib          pickletools         uuid\n",
      "_functools          contextvars         pip                 venv\n",
      "_hashlib            copy                pipes               warnings\n",
      "_heapq              copyreg             pkg_resources       wave\n",
      "_imp                crypt               pkgutil             wcwidth\n",
      "_io                 csv                 platform            weakref\n",
      "_json               ctypes              platformdirs        webbrowser\n",
      "_locale             curses              plistlib            wheel\n",
      "_lsprof             dataclasses         poplib              win2kras\n",
      "_lzma               datetime            posixpath           win32api\n",
      "_markupbase         dateutil            pprint              win32clipboard\n",
      "_md5                dbi                 profile             win32com\n",
      "_msi                dbm                 prompt_toolkit      win32con\n",
      "_multibytecodec     dde                 pstats              win32console\n",
      "_multiprocessing    debugpy             psutil              win32cred\n",
      "_opcode             decimal             pty                 win32crypt\n",
      "_operator           decorator           pure_eval           win32cryptcon\n",
      "_osx_support        difflib             py_compile          win32event\n",
      "_overlapped         dis                 pyclbr              win32evtlog\n",
      "_pickle             doctest             pydoc               win32evtlogutil\n",
      "_py_abc             email               pydoc_data          win32file\n",
      "_pydatetime         encodings           pyexpat             win32gui\n",
      "_pydecimal          ensurepip           pygments            win32gui_struct\n",
      "_pyio               enum                pythoncom           win32help\n",
      "_pylong             errno               pywin               win32inet\n",
      "_queue              executing           pywin32_bootstrap   win32inetcon\n",
      "_random             faulthandler        pywin32_testutil    win32job\n",
      "_sha1               filecmp             pywintypes          win32lz\n",
      "_sha2               fileinput           queue               win32net\n",
      "_sha3               fnmatch             quopri              win32netcon\n",
      "_signal             fractions           random              win32pdh\n",
      "_sitebuiltins       ftplib              rasutil             win32pdhquery\n",
      "_socket             functools           re                  win32pdhutil\n",
      "_sqlite3            gc                  regcheck            win32pipe\n",
      "_sre                genericpath         regutil             win32print\n",
      "_ssl                getopt              reprlib             win32process\n",
      "_stat               getpass             rlcompleter         win32profile\n",
      "_statistics         gettext             runpy               win32ras\n",
      "_string             glob                sched               win32rcparser\n",
      "_strptime           graphlib            secrets             win32security\n",
      "_struct             gzip                select              win32service\n",
      "_symtable           hashlib             selectors           win32serviceutil\n",
      "_testbuffer         heapq               servicemanager      win32timezone\n",
      "_testcapi           hmac                setuptools          win32trace\n",
      "_testclinic         html                shelve              win32traceutil\n",
      "_testconsole        http                shlex               win32transaction\n",
      "_testimportmultiple idlelib             shutil              win32ts\n",
      "_testinternalcapi   imaplib             signal              win32ui\n",
      "_testmultiphase     imghdr              site                win32uiole\n",
      "_testsinglephase    importlib           six                 win32verstamp\n",
      "_thread             importlib_metadata  smtplib             win32wnet\n",
      "_threading_local    importlib_resources sndhdr              winerror\n",
      "_tkinter            inflect             socket              winioctlcon\n",
      "_tokenize           inspect             socketserver        winnt\n",
      "_tracemalloc        io                  sqlite3             winperf\n",
      "_typing             ipaddress           sre_compile         winreg\n",
      "_uuid               ipykernel           sre_constants       winsound\n",
      "_warnings           ipykernel_launcher  sre_parse           winxpgui\n",
      "_weakref            isapi               ssl                 winxptheme\n",
      "_weakrefset         itertools           sspi                wsgiref\n",
      "_win32sysloader     jedi                sspicon             xdrlib\n",
      "_winapi             json                stack_data          xml\n",
      "_winxptheme         jupyter             start_pythonwin     xmlrpc\n",
      "_wmi                jupyter_client      stat                xxlimited\n",
      "_xxinterpchannels   jupyter_core        statistics          xxlimited_35\n",
      "_xxsubinterpreters  keyword             string              xxsubtype\n",
      "_zoneinfo           lib2to3             stringprep          zipapp\n",
      "abc                 linecache           struct              zipfile\n",
      "adodbapi            locale              subprocess          zipimport\n",
      "afxres              logging             sunau               zipp\n",
      "aifc                lzma                symtable            zlib\n",
      "antigravity         mailbox             sys                 zmq\n",
      "argparse            mailcap             sysconfig           zoneinfo\n",
      "array               marshal             tabnanny            \n",
      "ast                 math                tarfile             \n",
      "asttokens           matplotlib_inline   telnetlib           \n",
      "\n",
      "Enter any module name to get more help.  Or, type \"modules spam\" to search\n",
      "for modules whose name or summary contain the string \"spam\".\n",
      "\n"
     ]
    }
   ],
   "source": [
    "help(\"modules\")"
   ]
  },
  {
   "cell_type": "code",
   "execution_count": null,
   "metadata": {},
   "outputs": [],
   "source": []
  }
 ],
 "metadata": {
  "kernelspec": {
   "display_name": "dsa",
   "language": "python",
   "name": "python3"
  },
  "language_info": {
   "codemirror_mode": {
    "name": "ipython",
    "version": 3
   },
   "file_extension": ".py",
   "mimetype": "text/x-python",
   "name": "python",
   "nbconvert_exporter": "python",
   "pygments_lexer": "ipython3",
   "version": "3.12.7"
  }
 },
 "nbformat": 4,
 "nbformat_minor": 2
}
