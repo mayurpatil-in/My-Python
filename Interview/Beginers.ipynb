{
 "cells": [
  {
   "cell_type": "markdown",
   "metadata": {},
   "source": [
    "### 1. What are the key features of Python?\n",
    "- Python is free  and open-source.\n",
    "- It is an object-oriented language.\n",
    "- Easy to learn due to its clear syntax and readability.\n",
    "- Easy to interpret, making debugging very easy.\n",
    "- Easily integrated with other languages like C++, Java and more."
   ]
  },
  {
   "cell_type": "markdown",
   "metadata": {},
   "source": []
  }
 ],
 "metadata": {
  "language_info": {
   "name": "python"
  }
 },
 "nbformat": 4,
 "nbformat_minor": 2
}
