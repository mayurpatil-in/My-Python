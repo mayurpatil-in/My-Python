{
 "cells": [
  {
   "cell_type": "markdown",
   "metadata": {},
   "source": [
    "### 1. What are the key features of Python?\n",
    "- Python is free  and open-source.\n",
    "- It is an object-oriented language.\n",
    "- Easy to learn due to its clear syntax and readability.\n",
    "- Easy to interpret, making debugging very easy.\n",
    "- Easily integrated with other languages like C++, Java and more.\n",
    "***"
   ]
  },
  {
   "cell_type": "markdown",
   "metadata": {},
   "source": [
    "### 2. What are Keywords in Python?\n",
    "- Keywords are reserved words which are used as identifiers, function names and more.\n",
    "- They  help define the structuure and syntax of the language.\n",
    "- There are **33 keywords** in python 3.7 and here are some of them.\n",
    "- **Keywords:** False, None, True, and, break, if, else, for, return, continue, def etc.\n",
    "***"
   ]
  },
  {
   "cell_type": "markdown",
   "metadata": {},
   "source": [
    "### 3. What are literals in Python?\n",
    "- Literals in Python refer to the data that is given in a variable or constant.\n",
    "- There are **four** types of literals:\n",
    "    - **String** literals - Sequence of characters enclosedd in quotes\n",
    "    - **Numeric** literals - Integer, float and compplexx numbers\n",
    "    - **Boolean** literals - Represents TRUE or FALSE\n",
    "    - **Special** literals - 'None' is a good example\n",
    "---"
   ]
  },
  {
   "cell_type": "markdown",
   "metadata": {},
   "source": [
    "### 4. How can you concatenate two tuples?\n",
    "- **Consider two tuples:**\n",
    "    - tup1 = (1,\"a\",True)\n",
    "    - tup2 = (4,5,6)"
   ]
  },
  {
   "cell_type": "code",
   "execution_count": 1,
   "metadata": {},
   "outputs": [
    {
     "name": "stdout",
     "output_type": "stream",
     "text": [
      "(1, 'a', True, 4, 5, 6)\n"
     ]
    }
   ],
   "source": [
    "tup1 = (1,\"a\",True)\n",
    "tup2 = (4,5,6)\n",
    "print(tup1 + tup2)"
   ]
  },
  {
   "cell_type": "markdown",
   "metadata": {},
   "source": [
    "---"
   ]
  },
  {
   "cell_type": "markdown",
   "metadata": {},
   "source": [
    "### 5. What are functions in Python?\n",
    "- Functions in Python refer to **blocks** that  are organized, reusable pieces of code that perform single, and related events.\n",
    "- Functions are important to create better modularity for applications which reuse high degree of coding.\n",
    "- Python has a number of built-in functions like **print()** and allows of user-defined functions as well.\n",
    "---"
   ]
  },
  {
   "cell_type": "markdown",
   "metadata": {},
   "source": [
    "### 6. How can you initialize a 5*5 NumPy array with only zeroes?\n",
    "- NummPy has a brilliant function - **zeros()** that does exactly this\n",
    "- n1 = np.zeros((5,5))"
   ]
  },
  {
   "cell_type": "code",
   "execution_count": 1,
   "metadata": {},
   "outputs": [
    {
     "name": "stdout",
     "output_type": "stream",
     "text": [
      "[[0. 0. 0. 0. 0.]\n",
      " [0. 0. 0. 0. 0.]\n",
      " [0. 0. 0. 0. 0.]\n",
      " [0. 0. 0. 0. 0.]\n",
      " [0. 0. 0. 0. 0.]]\n"
     ]
    }
   ],
   "source": [
    "import numpy as np\n",
    "\n",
    "n1 = np.zeros((5,5))\n",
    "print(n1)"
   ]
  },
  {
   "cell_type": "markdown",
   "metadata": {},
   "source": [
    "---"
   ]
  },
  {
   "cell_type": "markdown",
   "metadata": {},
   "source": []
  }
 ],
 "metadata": {
  "kernelspec": {
   "display_name": "nlp-hate",
   "language": "python",
   "name": "python3"
  },
  "language_info": {
   "codemirror_mode": {
    "name": "ipython",
    "version": 3
   },
   "file_extension": ".py",
   "mimetype": "text/x-python",
   "name": "python",
   "nbconvert_exporter": "python",
   "pygments_lexer": "ipython3",
   "version": "3.11.9"
  }
 },
 "nbformat": 4,
 "nbformat_minor": 2
}
