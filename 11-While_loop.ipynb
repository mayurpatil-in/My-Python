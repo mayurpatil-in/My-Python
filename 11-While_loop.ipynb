{
 "cells": [
  {
   "cell_type": "markdown",
   "metadata": {},
   "source": [
    "## While Loop"
   ]
  },
  {
   "cell_type": "code",
   "execution_count": 1,
   "metadata": {},
   "outputs": [
    {
     "name": "stdout",
     "output_type": "stream",
     "text": [
      "Hello\n"
     ]
    }
   ],
   "source": [
    "print(\"Hello\")"
   ]
  },
  {
   "cell_type": "code",
   "execution_count": 2,
   "metadata": {},
   "outputs": [
    {
     "name": "stdout",
     "output_type": "stream",
     "text": [
      "Counter is at: 1\n",
      "Counter is at: 2\n",
      "Counter is at: 3\n",
      "Counter is at: 4\n",
      "Counter is at: 5\n",
      "Loop has ended.\n"
     ]
    }
   ],
   "source": [
    "# Initialize a counter\n",
    "counter = 1\n",
    "\n",
    "# Loop while counter is less than or equal to 5\n",
    "while counter <= 5:\n",
    "    print(f\"Counter is at: {counter}\")\n",
    "    counter += 1  # Increment the counter by 1\n",
    "\n",
    "print(\"Loop has ended.\")\n"
   ]
  },
  {
   "cell_type": "code",
   "execution_count": null,
   "metadata": {},
   "outputs": [],
   "source": []
  }
 ],
 "metadata": {
  "kernelspec": {
   "display_name": "dsa",
   "language": "python",
   "name": "python3"
  },
  "language_info": {
   "codemirror_mode": {
    "name": "ipython",
    "version": 3
   },
   "file_extension": ".py",
   "mimetype": "text/x-python",
   "name": "python",
   "nbconvert_exporter": "python",
   "pygments_lexer": "ipython3",
   "version": "3.12.7"
  }
 },
 "nbformat": 4,
 "nbformat_minor": 2
}
