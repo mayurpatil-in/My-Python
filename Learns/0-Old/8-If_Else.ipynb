{
 "cells": [
  {
   "cell_type": "markdown",
   "metadata": {},
   "source": [
    "## If - Else Statement"
   ]
  },
  {
   "cell_type": "code",
   "execution_count": 3,
   "metadata": {},
   "outputs": [
    {
     "name": "stdout",
     "output_type": "stream",
     "text": [
      "Invalid\n"
     ]
    }
   ],
   "source": [
    "# Login Function demo\n",
    "\"\"\"\n",
    "Email: mayur@gmail.com\n",
    "Password: 123\n",
    "\"\"\"\n",
    "\n",
    "email = input(\"Enter your email\")\n",
    "password = input(\"Enter your password\")\n",
    "\n",
    "if email == \"mayur@gmail.com\" and password == \"1234\":\n",
    "    print(\"Login Successful\")\n",
    "else:\n",
    "    print(\"Invalid\")\n"
   ]
  },
  {
   "cell_type": "code",
   "execution_count": 6,
   "metadata": {},
   "outputs": [
    {
     "name": "stdout",
     "output_type": "stream",
     "text": [
      "Please try again\n"
     ]
    }
   ],
   "source": [
    "email = input(\"Enter your email\")\n",
    "password = input(\"Enter your password\")\n",
    "\n",
    "if email == \"mayur@gmail.com\" and password == \"1234\":\n",
    "    print(\"Login Successful\")\n",
    "\n",
    "elif email == \"mayur@gmail.com\" and password != \"1234\":\n",
    "    print(\"Please try again\")\n",
    "\n",
    "else:\n",
    "    print(\"Invalid\")"
   ]
  },
  {
   "cell_type": "markdown",
   "metadata": {},
   "source": [
    "### Nasted Condition"
   ]
  },
  {
   "cell_type": "code",
   "execution_count": 7,
   "metadata": {},
   "outputs": [
    {
     "name": "stdout",
     "output_type": "stream",
     "text": [
      "Please try again\n",
      "Success\n"
     ]
    }
   ],
   "source": [
    "email = input(\"Enter your email\")\n",
    "password = input(\"Enter your password\")\n",
    "\n",
    "if email == \"mayur@gmail.com\" and password == \"1234\":\n",
    "    print(\"Login Successful\")\n",
    "\n",
    "elif email == \"mayur@gmail.com\" and password != \"1234\":\n",
    "    print(\"Please try again\")\n",
    "    password = input(\"Enter the correct password again:\")\n",
    "\n",
    "    if password == \"1234\":\n",
    "        print(\"Success\")\n",
    "    else:\n",
    "        print(\"Wrong\")\n",
    "\n",
    "else:\n",
    "    print(\"Invalid\")"
   ]
  },
  {
   "cell_type": "code",
   "execution_count": null,
   "metadata": {},
   "outputs": [],
   "source": [
    "if condition:\n",
    "    # write something\n",
    "\n",
    "else:\n",
    "    #write something  else"
   ]
  },
  {
   "cell_type": "markdown",
   "metadata": {},
   "source": [
    "# Exercise"
   ]
  },
  {
   "cell_type": "code",
   "execution_count": 9,
   "metadata": {},
   "outputs": [
    {
     "name": "stdout",
     "output_type": "stream",
     "text": [
      "Minimum number is:  1\n"
     ]
    }
   ],
   "source": [
    "# 1. Find the min of 3 given numbers\n",
    "\n",
    "num1 = int(input(\"Enter first number\"))\n",
    "num2 = int(input(\"Enter second number\"))\n",
    "num3 = int(input(\"Enter third number\"))\n",
    "\n",
    "if num1<num2 and num2<num3:\n",
    "    print(\"Minimum number is: \", num1)\n",
    "elif num2<num1 and num2<num3:\n",
    "    print(\"Minimum number is: \", num2)\n",
    "else:\n",
    "    print(\"Minimum number is: \", num3)\n"
   ]
  },
  {
   "cell_type": "code",
   "execution_count": 11,
   "metadata": {},
   "outputs": [
    {
     "name": "stdout",
     "output_type": "stream",
     "text": [
      "Exit\n"
     ]
    }
   ],
   "source": [
    "\"\"\" 2. ATM machine menu\n",
    "     1. Pin change\n",
    "     2. balance check\n",
    "     3 .withdraw\n",
    "     4. Deposit\n",
    "     5. Exit\n",
    "    \"\"\"\n",
    "\n",
    "menu = input(\"\"\"\n",
    "Hi there! Welcome to ATM\n",
    "please choose\n",
    "\n",
    "1. Enter 1 for Pin change\n",
    "2. Enter 2 for Balance check\n",
    "3. Enter 3 for Withdraw\n",
    "4. Enter 4 for Deposit\n",
    "5. Enter 5 for Exit\n",
    "\"\"\")\n",
    "\n",
    "if menu == \"1\":\n",
    "    print(\"Pin Change\")\n",
    "elif menu == \"2\":\n",
    "    print(\"Balance Check\")\n",
    "elif menu == \"3\":\n",
    "    print(\"Withdraw\")\n",
    "elif menu == \"4\":\n",
    "    print(\"Deposit\")\n",
    "else:\n",
    "    print(\"Exit\")\n",
    "\n"
   ]
  },
  {
   "cell_type": "code",
   "execution_count": null,
   "metadata": {},
   "outputs": [],
   "source": []
  }
 ],
 "metadata": {
  "kernelspec": {
   "display_name": "dsa",
   "language": "python",
   "name": "python3"
  },
  "language_info": {
   "codemirror_mode": {
    "name": "ipython",
    "version": 3
   },
   "file_extension": ".py",
   "mimetype": "text/x-python",
   "name": "python",
   "nbconvert_exporter": "python",
   "pygments_lexer": "ipython3",
   "version": "3.12.7"
  }
 },
 "nbformat": 4,
 "nbformat_minor": 2
}
