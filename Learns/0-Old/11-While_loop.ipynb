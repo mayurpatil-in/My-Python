{
 "cells": [
  {
   "cell_type": "markdown",
   "metadata": {},
   "source": [
    "## While Loop"
   ]
  },
  {
   "cell_type": "code",
   "execution_count": 1,
   "metadata": {},
   "outputs": [
    {
     "name": "stdout",
     "output_type": "stream",
     "text": [
      "Hello\n"
     ]
    }
   ],
   "source": [
    "print(\"Hello\")"
   ]
  },
  {
   "cell_type": "code",
   "execution_count": 2,
   "metadata": {},
   "outputs": [
    {
     "name": "stdout",
     "output_type": "stream",
     "text": [
      "Counter is at: 1\n",
      "Counter is at: 2\n",
      "Counter is at: 3\n",
      "Counter is at: 4\n",
      "Counter is at: 5\n",
      "Loop has ended.\n"
     ]
    }
   ],
   "source": [
    "# Initialize a counter\n",
    "counter = 1\n",
    "\n",
    "# Loop while counter is less than or equal to 5\n",
    "while counter <= 5:\n",
    "    print(f\"Counter is at: {counter}\")\n",
    "    counter += 1  # Increment the counter by 1\n",
    "\n",
    "print(\"Loop has ended.\")\n"
   ]
  },
  {
   "cell_type": "code",
   "execution_count": 7,
   "metadata": {},
   "outputs": [
    {
     "name": "stdout",
     "output_type": "stream",
     "text": [
      "Mayur\n",
      "Mayur\n",
      "Mayur\n",
      "Mayur\n",
      "Mayur\n",
      "Mayur\n",
      "Mayur\n",
      "Mayur\n",
      "Mayur\n"
     ]
    }
   ],
   "source": [
    "# While loop\n",
    "\n",
    "i = 1\n",
    "while i<10:\n",
    "    print(\"Mayur\")\n",
    "    i += 1"
   ]
  },
  {
   "cell_type": "code",
   "execution_count": 12,
   "metadata": {},
   "outputs": [
    {
     "name": "stdout",
     "output_type": "stream",
     "text": [
      "3 * 1 = 3\n",
      "3 * 2 = 3\n",
      "3 * 3 = 3\n",
      "3 * 4 = 3\n",
      "3 * 5 = 3\n",
      "3 * 6 = 3\n",
      "3 * 7 = 3\n",
      "3 * 8 = 3\n",
      "3 * 9 = 3\n",
      "3 * 10 = 3\n"
     ]
    }
   ],
   "source": [
    "# Program to print multiplication table\n",
    "number  = int(input(\"Enter  the Number: \"))\n",
    "i = 1 \n",
    "\n",
    "while i<11:\n",
    "    # print(i*number)\n",
    "    print(number, \"*\", i, \"=\", number*1)\n",
    "    i += 1"
   ]
  },
  {
   "cell_type": "code",
   "execution_count": 2,
   "metadata": {},
   "outputs": [
    {
     "name": "stdout",
     "output_type": "stream",
     "text": [
      "Wrong! Please guess higher number\n",
      "Wrong! Please guess lower number\n",
      "Wrong! Please guess lower number\n",
      "Wrong! Please guess higher number\n",
      "Wrong! Please guess higher number\n",
      "Wrong! Please guess lower number\n",
      "Correct Guess\n",
      "Your attempt is : 7\n"
     ]
    }
   ],
   "source": [
    "# Guessing Game\n",
    "\n",
    "import random\n",
    "\n",
    "jackpot = random.randint(1,100)\n",
    "\n",
    "guess_number = int(input(\"Enter  your guess number: \"))\n",
    "\n",
    "counter = 1\n",
    "\n",
    "while guess_number != jackpot:\n",
    "\n",
    "    if guess_number<jackpot:\n",
    "        print(\"Wrong! Please guess higher number\")\n",
    "\n",
    "    else:\n",
    "        print(\"Wrong! Please guess lower number\")\n",
    "\n",
    "    guess_number = int(input(\"Enter  your guess number: \"))\n",
    "    counter += 1\n",
    "\n",
    "else:\n",
    "    print(\"Correct Guess\")\n",
    "    print(\"Your attempt is :\", counter)"
   ]
  },
  {
   "cell_type": "code",
   "execution_count": null,
   "metadata": {},
   "outputs": [],
   "source": []
  }
 ],
 "metadata": {
  "kernelspec": {
   "display_name": "dsa",
   "language": "python",
   "name": "python3"
  },
  "language_info": {
   "codemirror_mode": {
    "name": "ipython",
    "version": 3
   },
   "file_extension": ".py",
   "mimetype": "text/x-python",
   "name": "python",
   "nbconvert_exporter": "python",
   "pygments_lexer": "ipython3",
   "version": "3.12.7"
  }
 },
 "nbformat": 4,
 "nbformat_minor": 2
}
